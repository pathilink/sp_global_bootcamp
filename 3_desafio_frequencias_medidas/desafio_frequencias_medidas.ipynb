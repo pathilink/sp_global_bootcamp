{
  "nbformat": 4,
  "nbformat_minor": 0,
  "metadata": {
    "colab": {
      "provenance": [],
      "toc_visible": true,
      "authorship_tag": "ABX9TyNNWjzuf95MCylTNzZdwZyq",
      "include_colab_link": true
    },
    "kernelspec": {
      "name": "python3",
      "display_name": "Python 3"
    },
    "language_info": {
      "name": "python"
    }
  },
  "cells": [
    {
      "cell_type": "markdown",
      "metadata": {
        "id": "view-in-github",
        "colab_type": "text"
      },
      "source": [
        "<a href=\"https://colab.research.google.com/github/pathilink/sp_global_bootcamp/blob/main/3_desafio_frequencias_medidas/desafio_frequencias_medidas.ipynb\" target=\"_parent\"><img src=\"https://colab.research.google.com/assets/colab-badge.svg\" alt=\"Open In Colab\"/></a>"
      ]
    },
    {
      "cell_type": "markdown",
      "source": [
        "# Estatística Frequências e Medidas\n",
        "\n",
        "Fonte dos dados: [Kaggle](https://www.kaggle.com/code/shivamb/netflix-shows-and-movies-exploratory-analysis)\n",
        "\n",
        "| Variável | Definição|\n",
        "| - | - |\n",
        "| show_id | id único do filme/série |\n",
        "| title | título do filme/série |\n",
        "| director | diretor |\n",
        "| cast | elenco |\n",
        "| country | país do filme/série|\n",
        "| date_added | data que foi adicionado no Netflix |\n",
        "| reading score| ano de lançamento original |\n",
        "| rating | classificação |\n",
        "| duration | duração total do filme/série |\n",
        "| listed_in | categoria ou gênero |\n",
        "| description | descrição do filme/série |\n",
        "| type | tipo de filme/série |"
      ],
      "metadata": {
        "id": "MgIC3LAtQBP_"
      }
    },
    {
      "cell_type": "markdown",
      "source": [
        "## Bibliotecas"
      ],
      "metadata": {
        "id": "qxEq5cHbQNAp"
      }
    },
    {
      "cell_type": "code",
      "source": [
        "import pandas as pd\n",
        "import numpy as np\n",
        "import matplotlib.pyplot as plt"
      ],
      "metadata": {
        "id": "hcHjr2b-Qgm5"
      },
      "execution_count": null,
      "outputs": []
    },
    {
      "cell_type": "markdown",
      "source": [
        "## Dado"
      ],
      "metadata": {
        "id": "cSlkPLKXQP8s"
      }
    },
    {
      "cell_type": "markdown",
      "source": [
        "## Questões"
      ],
      "metadata": {
        "id": "6piOVnhTQU57"
      }
    },
    {
      "cell_type": "markdown",
      "source": [
        "### 1 - Exploração inicial\n",
        "\n",
        "* Quantas linhas e colunas tem o dataset?\n",
        "* Quais são os tipos das variáveis e se há valores ausentes?"
      ],
      "metadata": {
        "id": "zkQCejPKQXC4"
      }
    },
    {
      "cell_type": "markdown",
      "source": [
        "### 2 - Análises de frequência\n",
        "\n",
        "* Qual a proporção de filmes vs séries no catálogo?\n",
        "* Qual o gênero mais frequênte?"
      ],
      "metadata": {
        "id": "QLw5GvxmQaL9"
      }
    },
    {
      "cell_type": "markdown",
      "source": [
        "### 3 - Análises estatísticas\n",
        "\n",
        "* Qual a média, mediana e moda do tempo de duração dos filmes?\n",
        "* Qual o filme mais curto e mais longo?"
      ],
      "metadata": {
        "id": "3CCnLc1KfKfx"
      }
    },
    {
      "cell_type": "markdown",
      "source": [
        "### 4 - Visualização de dados\n",
        "\n",
        "* Criar um gráfico de barras para mostrar a quantidade de títulos por gênero.\n",
        "* Criar um histograma para analisar a distribuição da duração dos filmes."
      ],
      "metadata": {
        "id": "vqfHXI53fh91"
      }
    },
    {
      "cell_type": "markdown",
      "source": [
        "### Atividade extra\n",
        "\n",
        "* Quais são os 5 países que possuem mais produções no catálogo?"
      ],
      "metadata": {
        "id": "vS5Sc9eEhptZ"
      }
    }
  ]
}