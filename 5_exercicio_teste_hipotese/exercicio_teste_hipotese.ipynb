{
  "nbformat": 4,
  "nbformat_minor": 0,
  "metadata": {
    "colab": {
      "provenance": [],
      "toc_visible": true,
      "mount_file_id": "1lnvpq8Sficekf81uzpmnKS004_PK4Z9T",
      "authorship_tag": "ABX9TyPPxAgyWd2T5p9+6V/GHODL",
      "include_colab_link": true
    },
    "kernelspec": {
      "name": "python3",
      "display_name": "Python 3"
    },
    "language_info": {
      "name": "python"
    }
  },
  "cells": [
    {
      "cell_type": "markdown",
      "metadata": {
        "id": "view-in-github",
        "colab_type": "text"
      },
      "source": [
        "<a href=\"https://colab.research.google.com/github/pathilink/sp_global_bootcamp/blob/main/5_exercicio_teste_hipotese/exercicio_teste_hipotese.ipynb\" target=\"_parent\"><img src=\"https://colab.research.google.com/assets/colab-badge.svg\" alt=\"Open In Colab\"/></a>"
      ]
    },
    {
      "cell_type": "markdown",
      "source": [
        "# Exercício Teste de Hipóteses"
      ],
      "metadata": {
        "id": "iCdvPiyE-PG3"
      }
    },
    {
      "cell_type": "markdown",
      "source": [
        "## Bibliotecas"
      ],
      "metadata": {
        "id": "v2QE2-z1-6_-"
      }
    },
    {
      "cell_type": "code",
      "source": [
        "import pandas as pd\n",
        "import numpy as np\n",
        "import seaborn as sns\n",
        "import matplotlib.pyplot as plt\n",
        "\n",
        "from scipy import stats\n",
        "from statsmodels.stats.power import NormalIndPower\n",
        "from statsmodels.stats.proportion import proportion_effectsize\n",
        "from scipy.stats import chi2_contingency\n",
        "from scipy.stats import pearsonr\n",
        "from scipy.stats import t\n",
        "from scipy.stats import shapiro"
      ],
      "metadata": {
        "id": "FUVIvvYj_FYi"
      },
      "execution_count": 1,
      "outputs": []
    },
    {
      "cell_type": "markdown",
      "source": [
        "## Dados"
      ],
      "metadata": {
        "id": "IwCrIXTm-8qx"
      }
    },
    {
      "cell_type": "markdown",
      "source": [
        "### Experimento"
      ],
      "metadata": {
        "id": "9QvxF2bVZpqM"
      }
    },
    {
      "cell_type": "code",
      "source": [
        "df_experimento = pd.read_csv('/content/drive/MyDrive/WoMakersCode/Bootcamp S&P Global/Teste de Hipótese/experimento_teste_ab.csv')\n",
        "df_experimento.head()"
      ],
      "metadata": {
        "colab": {
          "base_uri": "https://localhost:8080/",
          "height": 206
        },
        "id": "TehGbN2y_oaY",
        "outputId": "668ccde1-842b-474d-e7e8-4db93102682c"
      },
      "execution_count": 2,
      "outputs": [
        {
          "output_type": "execute_result",
          "data": {
            "text/plain": [
              "   Visitante_ID Versão_Página  Visualizações  Conversões\n",
              "0             1             A            167           1\n",
              "1             2             A            160           0\n",
              "2             3             A            170           0\n",
              "3             4             A            161           1\n",
              "4             5             A            104           0"
            ],
            "text/html": [
              "\n",
              "  <div id=\"df-d575b9bd-1a44-4aa5-a82d-40c1d9d46e29\" class=\"colab-df-container\">\n",
              "    <div>\n",
              "<style scoped>\n",
              "    .dataframe tbody tr th:only-of-type {\n",
              "        vertical-align: middle;\n",
              "    }\n",
              "\n",
              "    .dataframe tbody tr th {\n",
              "        vertical-align: top;\n",
              "    }\n",
              "\n",
              "    .dataframe thead th {\n",
              "        text-align: right;\n",
              "    }\n",
              "</style>\n",
              "<table border=\"1\" class=\"dataframe\">\n",
              "  <thead>\n",
              "    <tr style=\"text-align: right;\">\n",
              "      <th></th>\n",
              "      <th>Visitante_ID</th>\n",
              "      <th>Versão_Página</th>\n",
              "      <th>Visualizações</th>\n",
              "      <th>Conversões</th>\n",
              "    </tr>\n",
              "  </thead>\n",
              "  <tbody>\n",
              "    <tr>\n",
              "      <th>0</th>\n",
              "      <td>1</td>\n",
              "      <td>A</td>\n",
              "      <td>167</td>\n",
              "      <td>1</td>\n",
              "    </tr>\n",
              "    <tr>\n",
              "      <th>1</th>\n",
              "      <td>2</td>\n",
              "      <td>A</td>\n",
              "      <td>160</td>\n",
              "      <td>0</td>\n",
              "    </tr>\n",
              "    <tr>\n",
              "      <th>2</th>\n",
              "      <td>3</td>\n",
              "      <td>A</td>\n",
              "      <td>170</td>\n",
              "      <td>0</td>\n",
              "    </tr>\n",
              "    <tr>\n",
              "      <th>3</th>\n",
              "      <td>4</td>\n",
              "      <td>A</td>\n",
              "      <td>161</td>\n",
              "      <td>1</td>\n",
              "    </tr>\n",
              "    <tr>\n",
              "      <th>4</th>\n",
              "      <td>5</td>\n",
              "      <td>A</td>\n",
              "      <td>104</td>\n",
              "      <td>0</td>\n",
              "    </tr>\n",
              "  </tbody>\n",
              "</table>\n",
              "</div>\n",
              "    <div class=\"colab-df-buttons\">\n",
              "\n",
              "  <div class=\"colab-df-container\">\n",
              "    <button class=\"colab-df-convert\" onclick=\"convertToInteractive('df-d575b9bd-1a44-4aa5-a82d-40c1d9d46e29')\"\n",
              "            title=\"Convert this dataframe to an interactive table.\"\n",
              "            style=\"display:none;\">\n",
              "\n",
              "  <svg xmlns=\"http://www.w3.org/2000/svg\" height=\"24px\" viewBox=\"0 -960 960 960\">\n",
              "    <path d=\"M120-120v-720h720v720H120Zm60-500h600v-160H180v160Zm220 220h160v-160H400v160Zm0 220h160v-160H400v160ZM180-400h160v-160H180v160Zm440 0h160v-160H620v160ZM180-180h160v-160H180v160Zm440 0h160v-160H620v160Z\"/>\n",
              "  </svg>\n",
              "    </button>\n",
              "\n",
              "  <style>\n",
              "    .colab-df-container {\n",
              "      display:flex;\n",
              "      gap: 12px;\n",
              "    }\n",
              "\n",
              "    .colab-df-convert {\n",
              "      background-color: #E8F0FE;\n",
              "      border: none;\n",
              "      border-radius: 50%;\n",
              "      cursor: pointer;\n",
              "      display: none;\n",
              "      fill: #1967D2;\n",
              "      height: 32px;\n",
              "      padding: 0 0 0 0;\n",
              "      width: 32px;\n",
              "    }\n",
              "\n",
              "    .colab-df-convert:hover {\n",
              "      background-color: #E2EBFA;\n",
              "      box-shadow: 0px 1px 2px rgba(60, 64, 67, 0.3), 0px 1px 3px 1px rgba(60, 64, 67, 0.15);\n",
              "      fill: #174EA6;\n",
              "    }\n",
              "\n",
              "    .colab-df-buttons div {\n",
              "      margin-bottom: 4px;\n",
              "    }\n",
              "\n",
              "    [theme=dark] .colab-df-convert {\n",
              "      background-color: #3B4455;\n",
              "      fill: #D2E3FC;\n",
              "    }\n",
              "\n",
              "    [theme=dark] .colab-df-convert:hover {\n",
              "      background-color: #434B5C;\n",
              "      box-shadow: 0px 1px 3px 1px rgba(0, 0, 0, 0.15);\n",
              "      filter: drop-shadow(0px 1px 2px rgba(0, 0, 0, 0.3));\n",
              "      fill: #FFFFFF;\n",
              "    }\n",
              "  </style>\n",
              "\n",
              "    <script>\n",
              "      const buttonEl =\n",
              "        document.querySelector('#df-d575b9bd-1a44-4aa5-a82d-40c1d9d46e29 button.colab-df-convert');\n",
              "      buttonEl.style.display =\n",
              "        google.colab.kernel.accessAllowed ? 'block' : 'none';\n",
              "\n",
              "      async function convertToInteractive(key) {\n",
              "        const element = document.querySelector('#df-d575b9bd-1a44-4aa5-a82d-40c1d9d46e29');\n",
              "        const dataTable =\n",
              "          await google.colab.kernel.invokeFunction('convertToInteractive',\n",
              "                                                    [key], {});\n",
              "        if (!dataTable) return;\n",
              "\n",
              "        const docLinkHtml = 'Like what you see? Visit the ' +\n",
              "          '<a target=\"_blank\" href=https://colab.research.google.com/notebooks/data_table.ipynb>data table notebook</a>'\n",
              "          + ' to learn more about interactive tables.';\n",
              "        element.innerHTML = '';\n",
              "        dataTable['output_type'] = 'display_data';\n",
              "        await google.colab.output.renderOutput(dataTable, element);\n",
              "        const docLink = document.createElement('div');\n",
              "        docLink.innerHTML = docLinkHtml;\n",
              "        element.appendChild(docLink);\n",
              "      }\n",
              "    </script>\n",
              "  </div>\n",
              "\n",
              "\n",
              "<div id=\"df-de6c83e0-bcc7-45a5-bbf7-7fc6358400d7\">\n",
              "  <button class=\"colab-df-quickchart\" onclick=\"quickchart('df-de6c83e0-bcc7-45a5-bbf7-7fc6358400d7')\"\n",
              "            title=\"Suggest charts\"\n",
              "            style=\"display:none;\">\n",
              "\n",
              "<svg xmlns=\"http://www.w3.org/2000/svg\" height=\"24px\"viewBox=\"0 0 24 24\"\n",
              "     width=\"24px\">\n",
              "    <g>\n",
              "        <path d=\"M19 3H5c-1.1 0-2 .9-2 2v14c0 1.1.9 2 2 2h14c1.1 0 2-.9 2-2V5c0-1.1-.9-2-2-2zM9 17H7v-7h2v7zm4 0h-2V7h2v10zm4 0h-2v-4h2v4z\"/>\n",
              "    </g>\n",
              "</svg>\n",
              "  </button>\n",
              "\n",
              "<style>\n",
              "  .colab-df-quickchart {\n",
              "      --bg-color: #E8F0FE;\n",
              "      --fill-color: #1967D2;\n",
              "      --hover-bg-color: #E2EBFA;\n",
              "      --hover-fill-color: #174EA6;\n",
              "      --disabled-fill-color: #AAA;\n",
              "      --disabled-bg-color: #DDD;\n",
              "  }\n",
              "\n",
              "  [theme=dark] .colab-df-quickchart {\n",
              "      --bg-color: #3B4455;\n",
              "      --fill-color: #D2E3FC;\n",
              "      --hover-bg-color: #434B5C;\n",
              "      --hover-fill-color: #FFFFFF;\n",
              "      --disabled-bg-color: #3B4455;\n",
              "      --disabled-fill-color: #666;\n",
              "  }\n",
              "\n",
              "  .colab-df-quickchart {\n",
              "    background-color: var(--bg-color);\n",
              "    border: none;\n",
              "    border-radius: 50%;\n",
              "    cursor: pointer;\n",
              "    display: none;\n",
              "    fill: var(--fill-color);\n",
              "    height: 32px;\n",
              "    padding: 0;\n",
              "    width: 32px;\n",
              "  }\n",
              "\n",
              "  .colab-df-quickchart:hover {\n",
              "    background-color: var(--hover-bg-color);\n",
              "    box-shadow: 0 1px 2px rgba(60, 64, 67, 0.3), 0 1px 3px 1px rgba(60, 64, 67, 0.15);\n",
              "    fill: var(--button-hover-fill-color);\n",
              "  }\n",
              "\n",
              "  .colab-df-quickchart-complete:disabled,\n",
              "  .colab-df-quickchart-complete:disabled:hover {\n",
              "    background-color: var(--disabled-bg-color);\n",
              "    fill: var(--disabled-fill-color);\n",
              "    box-shadow: none;\n",
              "  }\n",
              "\n",
              "  .colab-df-spinner {\n",
              "    border: 2px solid var(--fill-color);\n",
              "    border-color: transparent;\n",
              "    border-bottom-color: var(--fill-color);\n",
              "    animation:\n",
              "      spin 1s steps(1) infinite;\n",
              "  }\n",
              "\n",
              "  @keyframes spin {\n",
              "    0% {\n",
              "      border-color: transparent;\n",
              "      border-bottom-color: var(--fill-color);\n",
              "      border-left-color: var(--fill-color);\n",
              "    }\n",
              "    20% {\n",
              "      border-color: transparent;\n",
              "      border-left-color: var(--fill-color);\n",
              "      border-top-color: var(--fill-color);\n",
              "    }\n",
              "    30% {\n",
              "      border-color: transparent;\n",
              "      border-left-color: var(--fill-color);\n",
              "      border-top-color: var(--fill-color);\n",
              "      border-right-color: var(--fill-color);\n",
              "    }\n",
              "    40% {\n",
              "      border-color: transparent;\n",
              "      border-right-color: var(--fill-color);\n",
              "      border-top-color: var(--fill-color);\n",
              "    }\n",
              "    60% {\n",
              "      border-color: transparent;\n",
              "      border-right-color: var(--fill-color);\n",
              "    }\n",
              "    80% {\n",
              "      border-color: transparent;\n",
              "      border-right-color: var(--fill-color);\n",
              "      border-bottom-color: var(--fill-color);\n",
              "    }\n",
              "    90% {\n",
              "      border-color: transparent;\n",
              "      border-bottom-color: var(--fill-color);\n",
              "    }\n",
              "  }\n",
              "</style>\n",
              "\n",
              "  <script>\n",
              "    async function quickchart(key) {\n",
              "      const quickchartButtonEl =\n",
              "        document.querySelector('#' + key + ' button');\n",
              "      quickchartButtonEl.disabled = true;  // To prevent multiple clicks.\n",
              "      quickchartButtonEl.classList.add('colab-df-spinner');\n",
              "      try {\n",
              "        const charts = await google.colab.kernel.invokeFunction(\n",
              "            'suggestCharts', [key], {});\n",
              "      } catch (error) {\n",
              "        console.error('Error during call to suggestCharts:', error);\n",
              "      }\n",
              "      quickchartButtonEl.classList.remove('colab-df-spinner');\n",
              "      quickchartButtonEl.classList.add('colab-df-quickchart-complete');\n",
              "    }\n",
              "    (() => {\n",
              "      let quickchartButtonEl =\n",
              "        document.querySelector('#df-de6c83e0-bcc7-45a5-bbf7-7fc6358400d7 button');\n",
              "      quickchartButtonEl.style.display =\n",
              "        google.colab.kernel.accessAllowed ? 'block' : 'none';\n",
              "    })();\n",
              "  </script>\n",
              "</div>\n",
              "\n",
              "    </div>\n",
              "  </div>\n"
            ],
            "application/vnd.google.colaboratory.intrinsic+json": {
              "type": "dataframe",
              "variable_name": "df_experimento",
              "summary": "{\n  \"name\": \"df_experimento\",\n  \"rows\": 2000,\n  \"fields\": [\n    {\n      \"column\": \"Visitante_ID\",\n      \"properties\": {\n        \"dtype\": \"number\",\n        \"std\": 577,\n        \"min\": 1,\n        \"max\": 2000,\n        \"num_unique_values\": 2000,\n        \"samples\": [\n          1861,\n          354,\n          1334\n        ],\n        \"semantic_type\": \"\",\n        \"description\": \"\"\n      }\n    },\n    {\n      \"column\": \"Vers\\u00e3o_P\\u00e1gina\",\n      \"properties\": {\n        \"dtype\": \"category\",\n        \"num_unique_values\": 2,\n        \"samples\": [\n          \"B\",\n          \"A\"\n        ],\n        \"semantic_type\": \"\",\n        \"description\": \"\"\n      }\n    },\n    {\n      \"column\": \"Visualiza\\u00e7\\u00f5es\",\n      \"properties\": {\n        \"dtype\": \"number\",\n        \"std\": 28,\n        \"min\": 100,\n        \"max\": 199,\n        \"num_unique_values\": 100,\n        \"samples\": [\n          192,\n          107\n        ],\n        \"semantic_type\": \"\",\n        \"description\": \"\"\n      }\n    },\n    {\n      \"column\": \"Convers\\u00f5es\",\n      \"properties\": {\n        \"dtype\": \"number\",\n        \"std\": 0,\n        \"min\": 0,\n        \"max\": 1,\n        \"num_unique_values\": 2,\n        \"samples\": [\n          0,\n          1\n        ],\n        \"semantic_type\": \"\",\n        \"description\": \"\"\n      }\n    }\n  ]\n}"
            }
          },
          "metadata": {},
          "execution_count": 2
        }
      ]
    },
    {
      "cell_type": "code",
      "source": [
        "df_experimento.info()"
      ],
      "metadata": {
        "colab": {
          "base_uri": "https://localhost:8080/"
        },
        "id": "tH3X7F0ePZDp",
        "outputId": "2b8eb471-01c5-4b11-e2b1-751096695493"
      },
      "execution_count": 3,
      "outputs": [
        {
          "output_type": "stream",
          "name": "stdout",
          "text": [
            "<class 'pandas.core.frame.DataFrame'>\n",
            "RangeIndex: 2000 entries, 0 to 1999\n",
            "Data columns (total 4 columns):\n",
            " #   Column         Non-Null Count  Dtype \n",
            "---  ------         --------------  ----- \n",
            " 0   Visitante_ID   2000 non-null   int64 \n",
            " 1   Versão_Página  2000 non-null   object\n",
            " 2   Visualizações  2000 non-null   int64 \n",
            " 3   Conversões     2000 non-null   int64 \n",
            "dtypes: int64(3), object(1)\n",
            "memory usage: 62.6+ KB\n"
          ]
        }
      ]
    },
    {
      "cell_type": "code",
      "source": [
        "# converter colunas numéricas para categóricas\n",
        "df_experimento['Visitante_ID'] = df_experimento['Visitante_ID'].astype('object')\n",
        "# df_experimento['Conversões'] = df_experimento['Conversões'].astype('object')"
      ],
      "metadata": {
        "id": "tFN-5z0zRFGm"
      },
      "execution_count": 4,
      "outputs": []
    },
    {
      "cell_type": "code",
      "source": [
        "df_experimento[['Visitante_ID', 'Conversões']].dtypes\n"
      ],
      "metadata": {
        "colab": {
          "base_uri": "https://localhost:8080/",
          "height": 147
        },
        "id": "2foJTWPiRlqp",
        "outputId": "d0ce3a4d-95bb-435c-8b90-7a34b2c9c29d"
      },
      "execution_count": 5,
      "outputs": [
        {
          "output_type": "execute_result",
          "data": {
            "text/plain": [
              "Visitante_ID    object\n",
              "Conversões       int64\n",
              "dtype: object"
            ],
            "text/html": [
              "<div>\n",
              "<style scoped>\n",
              "    .dataframe tbody tr th:only-of-type {\n",
              "        vertical-align: middle;\n",
              "    }\n",
              "\n",
              "    .dataframe tbody tr th {\n",
              "        vertical-align: top;\n",
              "    }\n",
              "\n",
              "    .dataframe thead th {\n",
              "        text-align: right;\n",
              "    }\n",
              "</style>\n",
              "<table border=\"1\" class=\"dataframe\">\n",
              "  <thead>\n",
              "    <tr style=\"text-align: right;\">\n",
              "      <th></th>\n",
              "      <th>0</th>\n",
              "    </tr>\n",
              "  </thead>\n",
              "  <tbody>\n",
              "    <tr>\n",
              "      <th>Visitante_ID</th>\n",
              "      <td>object</td>\n",
              "    </tr>\n",
              "    <tr>\n",
              "      <th>Conversões</th>\n",
              "      <td>int64</td>\n",
              "    </tr>\n",
              "  </tbody>\n",
              "</table>\n",
              "</div><br><label><b>dtype:</b> object</label>"
            ]
          },
          "metadata": {},
          "execution_count": 5
        }
      ]
    },
    {
      "cell_type": "code",
      "source": [
        "df_experimento['Visualizações'].describe()"
      ],
      "metadata": {
        "colab": {
          "base_uri": "https://localhost:8080/",
          "height": 335
        },
        "id": "FgTcBEAFPgO1",
        "outputId": "267693f3-9cea-449a-fc3f-b609ec27ff07"
      },
      "execution_count": 6,
      "outputs": [
        {
          "output_type": "execute_result",
          "data": {
            "text/plain": [
              "count    2000.000000\n",
              "mean      150.755500\n",
              "std        28.809421\n",
              "min       100.000000\n",
              "25%       126.000000\n",
              "50%       151.000000\n",
              "75%       175.000000\n",
              "max       199.000000\n",
              "Name: Visualizações, dtype: float64"
            ],
            "text/html": [
              "<div>\n",
              "<style scoped>\n",
              "    .dataframe tbody tr th:only-of-type {\n",
              "        vertical-align: middle;\n",
              "    }\n",
              "\n",
              "    .dataframe tbody tr th {\n",
              "        vertical-align: top;\n",
              "    }\n",
              "\n",
              "    .dataframe thead th {\n",
              "        text-align: right;\n",
              "    }\n",
              "</style>\n",
              "<table border=\"1\" class=\"dataframe\">\n",
              "  <thead>\n",
              "    <tr style=\"text-align: right;\">\n",
              "      <th></th>\n",
              "      <th>Visualizações</th>\n",
              "    </tr>\n",
              "  </thead>\n",
              "  <tbody>\n",
              "    <tr>\n",
              "      <th>count</th>\n",
              "      <td>2000.000000</td>\n",
              "    </tr>\n",
              "    <tr>\n",
              "      <th>mean</th>\n",
              "      <td>150.755500</td>\n",
              "    </tr>\n",
              "    <tr>\n",
              "      <th>std</th>\n",
              "      <td>28.809421</td>\n",
              "    </tr>\n",
              "    <tr>\n",
              "      <th>min</th>\n",
              "      <td>100.000000</td>\n",
              "    </tr>\n",
              "    <tr>\n",
              "      <th>25%</th>\n",
              "      <td>126.000000</td>\n",
              "    </tr>\n",
              "    <tr>\n",
              "      <th>50%</th>\n",
              "      <td>151.000000</td>\n",
              "    </tr>\n",
              "    <tr>\n",
              "      <th>75%</th>\n",
              "      <td>175.000000</td>\n",
              "    </tr>\n",
              "    <tr>\n",
              "      <th>max</th>\n",
              "      <td>199.000000</td>\n",
              "    </tr>\n",
              "  </tbody>\n",
              "</table>\n",
              "</div><br><label><b>dtype:</b> float64</label>"
            ]
          },
          "metadata": {},
          "execution_count": 6
        }
      ]
    },
    {
      "cell_type": "code",
      "source": [
        "df_experimento['Versão_Página'].unique()"
      ],
      "metadata": {
        "colab": {
          "base_uri": "https://localhost:8080/"
        },
        "id": "oVgd74hPZ3aO",
        "outputId": "f2a862bf-07a5-4fe9-824c-5297081073fe"
      },
      "execution_count": 7,
      "outputs": [
        {
          "output_type": "execute_result",
          "data": {
            "text/plain": [
              "array(['A', 'B'], dtype=object)"
            ]
          },
          "metadata": {},
          "execution_count": 7
        }
      ]
    },
    {
      "cell_type": "code",
      "source": [
        "df_experimento['Conversões'].unique()"
      ],
      "metadata": {
        "colab": {
          "base_uri": "https://localhost:8080/"
        },
        "id": "fvlFXxhBaII2",
        "outputId": "4c3634d5-143a-4b99-8c89-13a83b19f320"
      },
      "execution_count": 8,
      "outputs": [
        {
          "output_type": "execute_result",
          "data": {
            "text/plain": [
              "array([1, 0])"
            ]
          },
          "metadata": {},
          "execution_count": 8
        }
      ]
    },
    {
      "cell_type": "markdown",
      "source": [
        "### Pacientes"
      ],
      "metadata": {
        "id": "dWVYUfQOZvsZ"
      }
    },
    {
      "cell_type": "code",
      "source": [
        "df_pacientes = pd.read_csv('/content/drive/MyDrive/WoMakersCode/Bootcamp S&P Global/Teste de Hipótese/pacientes.csv', index_col=0)\n",
        "df_pacientes.head()"
      ],
      "metadata": {
        "colab": {
          "base_uri": "https://localhost:8080/",
          "height": 206
        },
        "id": "Ww8JVhq5_wV7",
        "outputId": "cbcfa339-863f-4c7a-8762-7cbdc20b6a45"
      },
      "execution_count": 9,
      "outputs": [
        {
          "output_type": "execute_result",
          "data": {
            "text/plain": [
              "   Pressao_Arterial  Idade  Genero  Etnia  Estado_Saude Nome_Genero  \\\n",
              "0        142.755809     31       1      1             1    Feminino   \n",
              "1        161.878468     35       1      1             0    Feminino   \n",
              "2        161.508259     39       0      3             1   Masculino   \n",
              "3        144.979408     43       1      3             1    Feminino   \n",
              "4        162.502954     55       0      2             1   Masculino   \n",
              "\n",
              "       Nome_Etnia                  Nome_Estado_Saude  \n",
              "0  Afro-americano  Com condições de saúde adicionais  \n",
              "1  Afro-americano                           Saudável  \n",
              "2        Asiático  Com condições de saúde adicionais  \n",
              "3        Asiático  Com condições de saúde adicionais  \n",
              "4       Hispânico  Com condições de saúde adicionais  "
            ],
            "text/html": [
              "\n",
              "  <div id=\"df-0ef5cab2-ac38-42ad-9850-684c3d5649e3\" class=\"colab-df-container\">\n",
              "    <div>\n",
              "<style scoped>\n",
              "    .dataframe tbody tr th:only-of-type {\n",
              "        vertical-align: middle;\n",
              "    }\n",
              "\n",
              "    .dataframe tbody tr th {\n",
              "        vertical-align: top;\n",
              "    }\n",
              "\n",
              "    .dataframe thead th {\n",
              "        text-align: right;\n",
              "    }\n",
              "</style>\n",
              "<table border=\"1\" class=\"dataframe\">\n",
              "  <thead>\n",
              "    <tr style=\"text-align: right;\">\n",
              "      <th></th>\n",
              "      <th>Pressao_Arterial</th>\n",
              "      <th>Idade</th>\n",
              "      <th>Genero</th>\n",
              "      <th>Etnia</th>\n",
              "      <th>Estado_Saude</th>\n",
              "      <th>Nome_Genero</th>\n",
              "      <th>Nome_Etnia</th>\n",
              "      <th>Nome_Estado_Saude</th>\n",
              "    </tr>\n",
              "  </thead>\n",
              "  <tbody>\n",
              "    <tr>\n",
              "      <th>0</th>\n",
              "      <td>142.755809</td>\n",
              "      <td>31</td>\n",
              "      <td>1</td>\n",
              "      <td>1</td>\n",
              "      <td>1</td>\n",
              "      <td>Feminino</td>\n",
              "      <td>Afro-americano</td>\n",
              "      <td>Com condições de saúde adicionais</td>\n",
              "    </tr>\n",
              "    <tr>\n",
              "      <th>1</th>\n",
              "      <td>161.878468</td>\n",
              "      <td>35</td>\n",
              "      <td>1</td>\n",
              "      <td>1</td>\n",
              "      <td>0</td>\n",
              "      <td>Feminino</td>\n",
              "      <td>Afro-americano</td>\n",
              "      <td>Saudável</td>\n",
              "    </tr>\n",
              "    <tr>\n",
              "      <th>2</th>\n",
              "      <td>161.508259</td>\n",
              "      <td>39</td>\n",
              "      <td>0</td>\n",
              "      <td>3</td>\n",
              "      <td>1</td>\n",
              "      <td>Masculino</td>\n",
              "      <td>Asiático</td>\n",
              "      <td>Com condições de saúde adicionais</td>\n",
              "    </tr>\n",
              "    <tr>\n",
              "      <th>3</th>\n",
              "      <td>144.979408</td>\n",
              "      <td>43</td>\n",
              "      <td>1</td>\n",
              "      <td>3</td>\n",
              "      <td>1</td>\n",
              "      <td>Feminino</td>\n",
              "      <td>Asiático</td>\n",
              "      <td>Com condições de saúde adicionais</td>\n",
              "    </tr>\n",
              "    <tr>\n",
              "      <th>4</th>\n",
              "      <td>162.502954</td>\n",
              "      <td>55</td>\n",
              "      <td>0</td>\n",
              "      <td>2</td>\n",
              "      <td>1</td>\n",
              "      <td>Masculino</td>\n",
              "      <td>Hispânico</td>\n",
              "      <td>Com condições de saúde adicionais</td>\n",
              "    </tr>\n",
              "  </tbody>\n",
              "</table>\n",
              "</div>\n",
              "    <div class=\"colab-df-buttons\">\n",
              "\n",
              "  <div class=\"colab-df-container\">\n",
              "    <button class=\"colab-df-convert\" onclick=\"convertToInteractive('df-0ef5cab2-ac38-42ad-9850-684c3d5649e3')\"\n",
              "            title=\"Convert this dataframe to an interactive table.\"\n",
              "            style=\"display:none;\">\n",
              "\n",
              "  <svg xmlns=\"http://www.w3.org/2000/svg\" height=\"24px\" viewBox=\"0 -960 960 960\">\n",
              "    <path d=\"M120-120v-720h720v720H120Zm60-500h600v-160H180v160Zm220 220h160v-160H400v160Zm0 220h160v-160H400v160ZM180-400h160v-160H180v160Zm440 0h160v-160H620v160ZM180-180h160v-160H180v160Zm440 0h160v-160H620v160Z\"/>\n",
              "  </svg>\n",
              "    </button>\n",
              "\n",
              "  <style>\n",
              "    .colab-df-container {\n",
              "      display:flex;\n",
              "      gap: 12px;\n",
              "    }\n",
              "\n",
              "    .colab-df-convert {\n",
              "      background-color: #E8F0FE;\n",
              "      border: none;\n",
              "      border-radius: 50%;\n",
              "      cursor: pointer;\n",
              "      display: none;\n",
              "      fill: #1967D2;\n",
              "      height: 32px;\n",
              "      padding: 0 0 0 0;\n",
              "      width: 32px;\n",
              "    }\n",
              "\n",
              "    .colab-df-convert:hover {\n",
              "      background-color: #E2EBFA;\n",
              "      box-shadow: 0px 1px 2px rgba(60, 64, 67, 0.3), 0px 1px 3px 1px rgba(60, 64, 67, 0.15);\n",
              "      fill: #174EA6;\n",
              "    }\n",
              "\n",
              "    .colab-df-buttons div {\n",
              "      margin-bottom: 4px;\n",
              "    }\n",
              "\n",
              "    [theme=dark] .colab-df-convert {\n",
              "      background-color: #3B4455;\n",
              "      fill: #D2E3FC;\n",
              "    }\n",
              "\n",
              "    [theme=dark] .colab-df-convert:hover {\n",
              "      background-color: #434B5C;\n",
              "      box-shadow: 0px 1px 3px 1px rgba(0, 0, 0, 0.15);\n",
              "      filter: drop-shadow(0px 1px 2px rgba(0, 0, 0, 0.3));\n",
              "      fill: #FFFFFF;\n",
              "    }\n",
              "  </style>\n",
              "\n",
              "    <script>\n",
              "      const buttonEl =\n",
              "        document.querySelector('#df-0ef5cab2-ac38-42ad-9850-684c3d5649e3 button.colab-df-convert');\n",
              "      buttonEl.style.display =\n",
              "        google.colab.kernel.accessAllowed ? 'block' : 'none';\n",
              "\n",
              "      async function convertToInteractive(key) {\n",
              "        const element = document.querySelector('#df-0ef5cab2-ac38-42ad-9850-684c3d5649e3');\n",
              "        const dataTable =\n",
              "          await google.colab.kernel.invokeFunction('convertToInteractive',\n",
              "                                                    [key], {});\n",
              "        if (!dataTable) return;\n",
              "\n",
              "        const docLinkHtml = 'Like what you see? Visit the ' +\n",
              "          '<a target=\"_blank\" href=https://colab.research.google.com/notebooks/data_table.ipynb>data table notebook</a>'\n",
              "          + ' to learn more about interactive tables.';\n",
              "        element.innerHTML = '';\n",
              "        dataTable['output_type'] = 'display_data';\n",
              "        await google.colab.output.renderOutput(dataTable, element);\n",
              "        const docLink = document.createElement('div');\n",
              "        docLink.innerHTML = docLinkHtml;\n",
              "        element.appendChild(docLink);\n",
              "      }\n",
              "    </script>\n",
              "  </div>\n",
              "\n",
              "\n",
              "<div id=\"df-251653e6-db7e-4127-b5f9-b34616b856d9\">\n",
              "  <button class=\"colab-df-quickchart\" onclick=\"quickchart('df-251653e6-db7e-4127-b5f9-b34616b856d9')\"\n",
              "            title=\"Suggest charts\"\n",
              "            style=\"display:none;\">\n",
              "\n",
              "<svg xmlns=\"http://www.w3.org/2000/svg\" height=\"24px\"viewBox=\"0 0 24 24\"\n",
              "     width=\"24px\">\n",
              "    <g>\n",
              "        <path d=\"M19 3H5c-1.1 0-2 .9-2 2v14c0 1.1.9 2 2 2h14c1.1 0 2-.9 2-2V5c0-1.1-.9-2-2-2zM9 17H7v-7h2v7zm4 0h-2V7h2v10zm4 0h-2v-4h2v4z\"/>\n",
              "    </g>\n",
              "</svg>\n",
              "  </button>\n",
              "\n",
              "<style>\n",
              "  .colab-df-quickchart {\n",
              "      --bg-color: #E8F0FE;\n",
              "      --fill-color: #1967D2;\n",
              "      --hover-bg-color: #E2EBFA;\n",
              "      --hover-fill-color: #174EA6;\n",
              "      --disabled-fill-color: #AAA;\n",
              "      --disabled-bg-color: #DDD;\n",
              "  }\n",
              "\n",
              "  [theme=dark] .colab-df-quickchart {\n",
              "      --bg-color: #3B4455;\n",
              "      --fill-color: #D2E3FC;\n",
              "      --hover-bg-color: #434B5C;\n",
              "      --hover-fill-color: #FFFFFF;\n",
              "      --disabled-bg-color: #3B4455;\n",
              "      --disabled-fill-color: #666;\n",
              "  }\n",
              "\n",
              "  .colab-df-quickchart {\n",
              "    background-color: var(--bg-color);\n",
              "    border: none;\n",
              "    border-radius: 50%;\n",
              "    cursor: pointer;\n",
              "    display: none;\n",
              "    fill: var(--fill-color);\n",
              "    height: 32px;\n",
              "    padding: 0;\n",
              "    width: 32px;\n",
              "  }\n",
              "\n",
              "  .colab-df-quickchart:hover {\n",
              "    background-color: var(--hover-bg-color);\n",
              "    box-shadow: 0 1px 2px rgba(60, 64, 67, 0.3), 0 1px 3px 1px rgba(60, 64, 67, 0.15);\n",
              "    fill: var(--button-hover-fill-color);\n",
              "  }\n",
              "\n",
              "  .colab-df-quickchart-complete:disabled,\n",
              "  .colab-df-quickchart-complete:disabled:hover {\n",
              "    background-color: var(--disabled-bg-color);\n",
              "    fill: var(--disabled-fill-color);\n",
              "    box-shadow: none;\n",
              "  }\n",
              "\n",
              "  .colab-df-spinner {\n",
              "    border: 2px solid var(--fill-color);\n",
              "    border-color: transparent;\n",
              "    border-bottom-color: var(--fill-color);\n",
              "    animation:\n",
              "      spin 1s steps(1) infinite;\n",
              "  }\n",
              "\n",
              "  @keyframes spin {\n",
              "    0% {\n",
              "      border-color: transparent;\n",
              "      border-bottom-color: var(--fill-color);\n",
              "      border-left-color: var(--fill-color);\n",
              "    }\n",
              "    20% {\n",
              "      border-color: transparent;\n",
              "      border-left-color: var(--fill-color);\n",
              "      border-top-color: var(--fill-color);\n",
              "    }\n",
              "    30% {\n",
              "      border-color: transparent;\n",
              "      border-left-color: var(--fill-color);\n",
              "      border-top-color: var(--fill-color);\n",
              "      border-right-color: var(--fill-color);\n",
              "    }\n",
              "    40% {\n",
              "      border-color: transparent;\n",
              "      border-right-color: var(--fill-color);\n",
              "      border-top-color: var(--fill-color);\n",
              "    }\n",
              "    60% {\n",
              "      border-color: transparent;\n",
              "      border-right-color: var(--fill-color);\n",
              "    }\n",
              "    80% {\n",
              "      border-color: transparent;\n",
              "      border-right-color: var(--fill-color);\n",
              "      border-bottom-color: var(--fill-color);\n",
              "    }\n",
              "    90% {\n",
              "      border-color: transparent;\n",
              "      border-bottom-color: var(--fill-color);\n",
              "    }\n",
              "  }\n",
              "</style>\n",
              "\n",
              "  <script>\n",
              "    async function quickchart(key) {\n",
              "      const quickchartButtonEl =\n",
              "        document.querySelector('#' + key + ' button');\n",
              "      quickchartButtonEl.disabled = true;  // To prevent multiple clicks.\n",
              "      quickchartButtonEl.classList.add('colab-df-spinner');\n",
              "      try {\n",
              "        const charts = await google.colab.kernel.invokeFunction(\n",
              "            'suggestCharts', [key], {});\n",
              "      } catch (error) {\n",
              "        console.error('Error during call to suggestCharts:', error);\n",
              "      }\n",
              "      quickchartButtonEl.classList.remove('colab-df-spinner');\n",
              "      quickchartButtonEl.classList.add('colab-df-quickchart-complete');\n",
              "    }\n",
              "    (() => {\n",
              "      let quickchartButtonEl =\n",
              "        document.querySelector('#df-251653e6-db7e-4127-b5f9-b34616b856d9 button');\n",
              "      quickchartButtonEl.style.display =\n",
              "        google.colab.kernel.accessAllowed ? 'block' : 'none';\n",
              "    })();\n",
              "  </script>\n",
              "</div>\n",
              "\n",
              "    </div>\n",
              "  </div>\n"
            ],
            "application/vnd.google.colaboratory.intrinsic+json": {
              "type": "dataframe",
              "variable_name": "df_pacientes",
              "summary": "{\n  \"name\": \"df_pacientes\",\n  \"rows\": 1000,\n  \"fields\": [\n    {\n      \"column\": \"Pressao_Arterial\",\n      \"properties\": {\n        \"dtype\": \"number\",\n        \"std\": 9.943612581359616,\n        \"min\": 112.92982068924913,\n        \"max\": 181.80313088710068,\n        \"num_unique_values\": 1000,\n        \"samples\": [\n          152.04119412297098,\n          147.54391492523183,\n          168.8184130751253\n        ],\n        \"semantic_type\": \"\",\n        \"description\": \"\"\n      }\n    },\n    {\n      \"column\": \"Idade\",\n      \"properties\": {\n        \"dtype\": \"number\",\n        \"std\": 11,\n        \"min\": 30,\n        \"max\": 70,\n        \"num_unique_values\": 41,\n        \"samples\": [\n          30,\n          65,\n          57\n        ],\n        \"semantic_type\": \"\",\n        \"description\": \"\"\n      }\n    },\n    {\n      \"column\": \"Genero\",\n      \"properties\": {\n        \"dtype\": \"number\",\n        \"std\": 0,\n        \"min\": 0,\n        \"max\": 1,\n        \"num_unique_values\": 2,\n        \"samples\": [\n          0,\n          1\n        ],\n        \"semantic_type\": \"\",\n        \"description\": \"\"\n      }\n    },\n    {\n      \"column\": \"Etnia\",\n      \"properties\": {\n        \"dtype\": \"number\",\n        \"std\": 1,\n        \"min\": 0,\n        \"max\": 3,\n        \"num_unique_values\": 4,\n        \"samples\": [\n          3,\n          0\n        ],\n        \"semantic_type\": \"\",\n        \"description\": \"\"\n      }\n    },\n    {\n      \"column\": \"Estado_Saude\",\n      \"properties\": {\n        \"dtype\": \"number\",\n        \"std\": 0,\n        \"min\": 0,\n        \"max\": 1,\n        \"num_unique_values\": 2,\n        \"samples\": [\n          0,\n          1\n        ],\n        \"semantic_type\": \"\",\n        \"description\": \"\"\n      }\n    },\n    {\n      \"column\": \"Nome_Genero\",\n      \"properties\": {\n        \"dtype\": \"category\",\n        \"num_unique_values\": 2,\n        \"samples\": [\n          \"Masculino\",\n          \"Feminino\"\n        ],\n        \"semantic_type\": \"\",\n        \"description\": \"\"\n      }\n    },\n    {\n      \"column\": \"Nome_Etnia\",\n      \"properties\": {\n        \"dtype\": \"category\",\n        \"num_unique_values\": 4,\n        \"samples\": [\n          \"Asi\\u00e1tico\",\n          \"Caucasiano\"\n        ],\n        \"semantic_type\": \"\",\n        \"description\": \"\"\n      }\n    },\n    {\n      \"column\": \"Nome_Estado_Saude\",\n      \"properties\": {\n        \"dtype\": \"category\",\n        \"num_unique_values\": 2,\n        \"samples\": [\n          \"Saud\\u00e1vel\",\n          \"Com condi\\u00e7\\u00f5es de sa\\u00fade adicionais\"\n        ],\n        \"semantic_type\": \"\",\n        \"description\": \"\"\n      }\n    }\n  ]\n}"
            }
          },
          "metadata": {},
          "execution_count": 9
        }
      ]
    },
    {
      "cell_type": "code",
      "source": [
        "df_pacientes.info()"
      ],
      "metadata": {
        "colab": {
          "base_uri": "https://localhost:8080/"
        },
        "id": "qeIZulWfAP1J",
        "outputId": "c0036f77-0e1c-49f5-e885-e21cbc28af32"
      },
      "execution_count": 10,
      "outputs": [
        {
          "output_type": "stream",
          "name": "stdout",
          "text": [
            "<class 'pandas.core.frame.DataFrame'>\n",
            "Index: 1000 entries, 0 to 999\n",
            "Data columns (total 8 columns):\n",
            " #   Column             Non-Null Count  Dtype  \n",
            "---  ------             --------------  -----  \n",
            " 0   Pressao_Arterial   1000 non-null   float64\n",
            " 1   Idade              1000 non-null   int64  \n",
            " 2   Genero             1000 non-null   int64  \n",
            " 3   Etnia              1000 non-null   int64  \n",
            " 4   Estado_Saude       1000 non-null   int64  \n",
            " 5   Nome_Genero        1000 non-null   object \n",
            " 6   Nome_Etnia         1000 non-null   object \n",
            " 7   Nome_Estado_Saude  1000 non-null   object \n",
            "dtypes: float64(1), int64(4), object(3)\n",
            "memory usage: 70.3+ KB\n"
          ]
        }
      ]
    },
    {
      "cell_type": "markdown",
      "source": [
        "## Questões - Teste AB"
      ],
      "metadata": {
        "id": "iIwTfwk9-_Xv"
      }
    },
    {
      "cell_type": "markdown",
      "source": [
        "### 1.\n",
        "Qual dos cenários tem a maior taxa de conversão?"
      ],
      "metadata": {
        "id": "HNCRdkaiDGpR"
      }
    },
    {
      "cell_type": "code",
      "source": [
        "df_experimento.groupby('Versão_Página')['Conversões'].count()"
      ],
      "metadata": {
        "colab": {
          "base_uri": "https://localhost:8080/",
          "height": 0
        },
        "id": "SP73uPAma-gO",
        "outputId": "3e965924-eb84-4bb3-e0c9-369f43bd7f8a"
      },
      "execution_count": 11,
      "outputs": [
        {
          "output_type": "execute_result",
          "data": {
            "text/plain": [
              "Versão_Página\n",
              "A    1000\n",
              "B    1000\n",
              "Name: Conversões, dtype: int64"
            ],
            "text/html": [
              "<div>\n",
              "<style scoped>\n",
              "    .dataframe tbody tr th:only-of-type {\n",
              "        vertical-align: middle;\n",
              "    }\n",
              "\n",
              "    .dataframe tbody tr th {\n",
              "        vertical-align: top;\n",
              "    }\n",
              "\n",
              "    .dataframe thead th {\n",
              "        text-align: right;\n",
              "    }\n",
              "</style>\n",
              "<table border=\"1\" class=\"dataframe\">\n",
              "  <thead>\n",
              "    <tr style=\"text-align: right;\">\n",
              "      <th></th>\n",
              "      <th>Conversões</th>\n",
              "    </tr>\n",
              "    <tr>\n",
              "      <th>Versão_Página</th>\n",
              "      <th></th>\n",
              "    </tr>\n",
              "  </thead>\n",
              "  <tbody>\n",
              "    <tr>\n",
              "      <th>A</th>\n",
              "      <td>1000</td>\n",
              "    </tr>\n",
              "    <tr>\n",
              "      <th>B</th>\n",
              "      <td>1000</td>\n",
              "    </tr>\n",
              "  </tbody>\n",
              "</table>\n",
              "</div><br><label><b>dtype:</b> int64</label>"
            ]
          },
          "metadata": {},
          "execution_count": 11
        }
      ]
    },
    {
      "cell_type": "code",
      "execution_count": 12,
      "metadata": {
        "colab": {
          "base_uri": "https://localhost:8080/",
          "height": 0
        },
        "id": "zV4meIU7-Oc1",
        "outputId": "1eb69a01-4a58-4ba2-8209-70b634d5dae0"
      },
      "outputs": [
        {
          "output_type": "execute_result",
          "data": {
            "text/plain": [
              "Versão_Página\n",
              "A    105\n",
              "B    125\n",
              "Name: Conversões, dtype: int64"
            ],
            "text/html": [
              "<div>\n",
              "<style scoped>\n",
              "    .dataframe tbody tr th:only-of-type {\n",
              "        vertical-align: middle;\n",
              "    }\n",
              "\n",
              "    .dataframe tbody tr th {\n",
              "        vertical-align: top;\n",
              "    }\n",
              "\n",
              "    .dataframe thead th {\n",
              "        text-align: right;\n",
              "    }\n",
              "</style>\n",
              "<table border=\"1\" class=\"dataframe\">\n",
              "  <thead>\n",
              "    <tr style=\"text-align: right;\">\n",
              "      <th></th>\n",
              "      <th>Conversões</th>\n",
              "    </tr>\n",
              "    <tr>\n",
              "      <th>Versão_Página</th>\n",
              "      <th></th>\n",
              "    </tr>\n",
              "  </thead>\n",
              "  <tbody>\n",
              "    <tr>\n",
              "      <th>A</th>\n",
              "      <td>105</td>\n",
              "    </tr>\n",
              "    <tr>\n",
              "      <th>B</th>\n",
              "      <td>125</td>\n",
              "    </tr>\n",
              "  </tbody>\n",
              "</table>\n",
              "</div><br><label><b>dtype:</b> int64</label>"
            ]
          },
          "metadata": {},
          "execution_count": 12
        }
      ],
      "source": [
        "df_experimento.groupby('Versão_Página')['Conversões'].sum()"
      ]
    },
    {
      "cell_type": "markdown",
      "source": [
        "<font color=blue>\n",
        "A página com a versão B apresentou a maior taxa de conversão: 12,5%.\n",
        "</font>"
      ],
      "metadata": {
        "id": "QpyVAShNbDfr"
      }
    },
    {
      "cell_type": "markdown",
      "source": [
        "### 2.\n",
        "Calcule qual o tamanho da amostra necessária para o desenvolvimento\n",
        "de um teste A/B, seguindo os seguintes critérios:\n",
        "\n",
        "a. O cenário A, da base, como o inicial, que funciona hoje.\n",
        "\n",
        "b. Considere 95% de confiança de que o efeito na conversão não foi aleatório com um nível de significância de 5% (alpha = 0,05).\n",
        "\n",
        "c. Também considere 80% de certeza conseguir capturar o efeito da nova abordagem.\n",
        "\n",
        "d. O aumento para 10% de conversão."
      ],
      "metadata": {
        "id": "cs9gIz3oDNYv"
      }
    },
    {
      "cell_type": "code",
      "source": [
        "total_conversions = df_experimento['Conversões'].sum()\n",
        "print(f'Conversões: {total_conversions}')\n",
        "\n",
        "total_views = df_experimento['Visualizações'].sum()\n",
        "print(f'Visualizações: {total_views}')"
      ],
      "metadata": {
        "id": "HR7x1V4Jh1Qw",
        "colab": {
          "base_uri": "https://localhost:8080/"
        },
        "outputId": "bb261b0f-423e-4981-d7e1-a2fb450d0cdb"
      },
      "execution_count": 13,
      "outputs": [
        {
          "output_type": "stream",
          "name": "stdout",
          "text": [
            "Conversões: 230\n",
            "Visualizações: 301511\n"
          ]
        }
      ]
    },
    {
      "cell_type": "code",
      "source": [
        "# taxa de conversão baseline\n",
        "p1 = total_conversions / total_views\n",
        "print(f'Taxa de conversão: {p1}')\n",
        "\n",
        "p2 = 0.10  # taxa esperada (nova versão)\n",
        "print(f'Taxa de conversão esperada: {p2}')"
      ],
      "metadata": {
        "colab": {
          "base_uri": "https://localhost:8080/"
        },
        "id": "oRs35yqR649M",
        "outputId": "79c190ca-9ad5-498b-ed35-f2e202a2e463"
      },
      "execution_count": 14,
      "outputs": [
        {
          "output_type": "stream",
          "name": "stdout",
          "text": [
            "Taxa de conversão: 0.0007628245735644803\n",
            "Taxa de conversão esperada: 0.1\n"
          ]
        }
      ]
    },
    {
      "cell_type": "code",
      "source": [
        "# tamanho do efeito\n",
        "effect_size = proportion_effectsize(p1, p2)\n",
        "print(f'Tamanho do efeito: {effect_size}')"
      ],
      "metadata": {
        "colab": {
          "base_uri": "https://localhost:8080/"
        },
        "id": "W7YdcUO57Q5Y",
        "outputId": "26a81c04-73d2-49c1-8e1c-91ba9df41d6e"
      },
      "execution_count": 15,
      "outputs": [
        {
          "output_type": "stream",
          "name": "stdout",
          "text": [
            "Tamanho do efeito: -0.588255525453917\n"
          ]
        }
      ]
    },
    {
      "cell_type": "markdown",
      "source": [
        "<font color=blue>\n",
        "**Comparar duas proporções** — a taxa de conversão atual (p1) e a taxa de conversão esperada (p2).\n",
        "<br><br>\n",
        "O proportion_effectsize(p1, p2) transforma a diferença entre duas taxas de conversão (proporções) em uma medida estatística padronizada.\n",
        "\n",
        "<li>Queremos saber se a diferença entre p1 e p2 é \"grande o suficiente\" para ser detectável com uma determinada confiança e poder estatístico.</li>\n",
        "\n",
        "<li>O tamanho da amostra necessária depende muito disso. Se a diferença for pequena, você precisa de uma amostra maior para ter certeza de que ela não aconteceu por acaso.</li>\n",
        "<br>\n",
        "Interpretação do resultado:\n",
        "<li>O número -0.588 veio da fórmula de Cohen’s h, que compara duas proporções (p1 e p2) usando arcoseno.\n",
        "<br>\n",
        "<li>O sinal negativo indica que a taxa de conversão esperada (p2 = 10%) é maior do que a taxa atual (p1), ou seja: estamos testando um aumento de conversão.\n",
        "<li>A magnitude (valor absoluto) do efeito é |−0.588| = 0.588, o que é considerado um efeito de tamanho médio a grande.\n",
        "<li>Com 0.588, o experimento tem diferença razoavelmente detectável entre as versões, então não vai exigir uma amostra gigante, mas ainda é algo que requer um bom número de visitantes para confirmar.\n",
        "</font>\n",
        "\n",
        "|Valor de Cohen’s h (tamanho do efeito) | Interpretação |\n",
        "|-|-|\n",
        "| 0.2 | Pequeno |\n",
        "| 0.5 | Médio |\n",
        "| 0.8 | Grande |\n",
        "\n",
        "<font color=blue>\n",
        "A fórmula de Cohen's utilizada para calcular o tamanho do efeito entre duas proporções \\( p_1 \\) e \\( p_2 \\) é:\n",
        "</font>\n",
        "\n",
        "$$\n",
        "h = 2 \\cdot \\arcsin\\left(\\sqrt{p_1}\\right) - 2 \\cdot \\arcsin\\left(\\sqrt{p_2}\\right)\n",
        "$$\n",
        "\n",
        "<font color=blue>\n",
        "Onde:\n",
        "- \\( p_1 \\) é a proporção (taxa de conversão) do grupo controle (versão A),\n",
        "- \\( p_2 \\) é a proporção esperada do grupo teste (versão B),\n",
        "- \\( h \\) é o tamanho do efeito padronizado (Cohen's *h*).\n",
        "</font>"
      ],
      "metadata": {
        "id": "mP-Y7xwo7l_N"
      }
    },
    {
      "cell_type": "code",
      "source": [
        "# parâmetros para o cálculo\n",
        "alpha = 0.05  # significância\n",
        "power = 0.80  # poder do teste"
      ],
      "metadata": {
        "id": "bg4wK1WD8va9"
      },
      "execution_count": 16,
      "outputs": []
    },
    {
      "cell_type": "code",
      "source": [
        "# cálculo\n",
        "analysis = NormalIndPower()\n",
        "sample_size = analysis.solve_power(effect_size=effect_size, power=power, alpha=alpha, ratio=1, alternative='two-sided')\n",
        "\n",
        "sample_size_per_group = int(round(sample_size))\n",
        "\n",
        "print(f'{sample_size_per_group} é o número mínimo de visitantes únicos por grupo (A e B) para testar se a taxa de conversão realmente subiu para 10% com 95% de confiança e 80% de poder estatístico.)')"
      ],
      "metadata": {
        "colab": {
          "base_uri": "https://localhost:8080/"
        },
        "id": "rVXxPMrM9MwA",
        "outputId": "293da0da-c69a-4deb-a182-13ea0a35fa1d"
      },
      "execution_count": 17,
      "outputs": [
        {
          "output_type": "stream",
          "name": "stdout",
          "text": [
            "45 é o número mínimo de visitantes únicos por grupo (A e B) para testar se a taxa de conversão realmente subiu para 10% com 95% de confiança e 80% de poder estatístico.)\n"
          ]
        }
      ]
    },
    {
      "cell_type": "markdown",
      "source": [
        "## Questões - Pacientes\n",
        "\n",
        "Considere a base como a população, portanto as estatísticas da população são conhecidas.\n",
        "\n",
        "Obs.: Como o dado Pressao_Arterial está sendo utilizado como um valor único, podemos supor que ou é a PAM ou um valor fixo (sistólica ou diastólica)."
      ],
      "metadata": {
        "id": "YzUF5Zs8C6bS"
      }
    },
    {
      "cell_type": "markdown",
      "source": [
        "### 3.\n",
        "\n",
        "Considerando uma amostra de 45 números que representam o index do dataframe, índices= ([909, 751, 402, 400, 726, 39, 184, 269, 255, 769, 209, 715, 677, 381, 793, 697, 89, 280, 232, 756, 358, 36, 439, 768, 967, 699, 473, 222, 89, 639, 883, 558, 757, 84, 907, 895, 217, 224, 311, 348, 146, 505, 273, 957, 362]). Considerando essa amostra é possível dizer que a idade média das pessoas com problemas cardíacos é maior que 50 anos? Nível de significância igual a 5%."
      ],
      "metadata": {
        "id": "tk6AUuw3FIVR"
      }
    },
    {
      "cell_type": "markdown",
      "source": [
        "<font color=blue>\n",
        "<li>H0: A média de idade das pessoas com problemas cardíacos é menor ou igual a 50 anos.\n",
        "<li>H1: A média de idade das pessoas com problemas cardíacos é maior que 50 anos.\n",
        "</font>"
      ],
      "metadata": {
        "id": "bWK1e5OlLBuq"
      }
    },
    {
      "cell_type": "code",
      "source": [
        "indices3 = [909, 751, 402, 400, 726, 39, 184, 269, 255, 769,\n",
        "            209, 715, 677, 381, 793, 697, 89, 280, 232, 756,\n",
        "            358, 36, 439, 768, 967, 699, 473, 222, 89, 639,\n",
        "            883, 558, 757, 84, 907, 895, 217, 224, 311, 348,\n",
        "            146, 505, 273, 957, 362]\n",
        "\n",
        "amostra3 = df_pacientes.loc[indices3]\n"
      ],
      "metadata": {
        "id": "fL12OtLxLkX4"
      },
      "execution_count": 18,
      "outputs": []
    },
    {
      "cell_type": "code",
      "source": [
        "# filtra quem tem problema cardíaco\n",
        "amostra_problemas_cardiacos = amostra3[amostra3[\"Estado_Saude\"] == 1]\n",
        "\n",
        "# Teste t unilateral (média > 50 anos)\n",
        "# H0: média <= 50\n",
        "# H1: média > 50\n",
        "media_amostra = amostra_problemas_cardiacos[\"Idade\"].mean()\n",
        "n = len(amostra_problemas_cardiacos)\n",
        "t_stat, p_valor_bilateral = stats.ttest_1samp(amostra_problemas_cardiacos[\"Idade\"], popmean=50)\n",
        "\n",
        "# Como o teste é unilateral (cauda direita), dividimos o p-valor bilateral por 2\n",
        "p_valor_unilateral = p_valor_bilateral / 2\n",
        "\n",
        "# Mostrar resultado\n",
        "print(f\"Média da amostra: {media_amostra:.2f}\")\n",
        "print(f\"T-stat: {t_stat:.4f}\")\n",
        "print(f\"P-valor unilateral: {p_valor_unilateral:.4f}\")\n",
        "\n",
        "# Conclusão\n",
        "alpha = 0.05\n",
        "if (t_stat > 0) and (p_valor_unilateral < alpha):\n",
        "    print(\"Rejeitamos H0: evidências de que a idade média > 50 anos.\")\n",
        "else:\n",
        "    print(\"Não rejeitamos H0: sem evidências suficientes de que a idade média > 50 anos.\")"
      ],
      "metadata": {
        "colab": {
          "base_uri": "https://localhost:8080/"
        },
        "id": "fzSBLNaIOGS9",
        "outputId": "9645eb3c-827c-4a0b-e970-e8ab95ca7ce4"
      },
      "execution_count": 19,
      "outputs": [
        {
          "output_type": "stream",
          "name": "stdout",
          "text": [
            "Média da amostra: 48.16\n",
            "T-stat: -0.6665\n",
            "P-valor unilateral: 0.2568\n",
            "Não rejeitamos H0: sem evidências suficientes de que a idade média > 50 anos.\n"
          ]
        }
      ]
    },
    {
      "cell_type": "markdown",
      "source": [
        "### 4.\n",
        "Queremos entender que tipo de amostra estamos lidando se dividirmos os conjuntos em 2, sendo um com pessoas que têm condições de saúde adicionais e o outro com pessoas saudáveis. Seria dependente ou independente?"
      ],
      "metadata": {
        "id": "26metrwVFVpM"
      }
    },
    {
      "cell_type": "markdown",
      "source": [
        "<font color=blue>\n",
        "Dividir os dados em dois grupos:\n",
        "<li>Grupo 1: pessoas com condições de saúde adicionais (Estado_Saude == 1)\n",
        "<li>Grupo 0: pessoas saudáveis (Estado_Saude == 0)\n",
        "<br><br>\n",
        "Esses dois grupos:\n",
        "<li>Não são formados pelas mesmas pessoas antes/depois de algum tratamento.\n",
        "<li>Não são pareados por características individuais.\n",
        "<li>Foram selecionados de maneira independente, a partir de uma amostra aleatória de pessoas.\n",
        "<br><br>\n",
        "Conclusão:\n",
        "<li>Esses dois subconjuntos representam amostras independentes.\n",
        "</font>"
      ],
      "metadata": {
        "id": "jqKSZdtRq5YA"
      }
    },
    {
      "cell_type": "markdown",
      "source": [
        "### 5.\n",
        "Agora considere o um conjunto de pessoas aleatória que representam o index do dataframe, índices = ([690, 894, 67, 201, 364, 19, 60, 319, 588, 643, 855, 623, 530, 174, 105, 693, 6, 462, 973, 607, 811, 346, 354, 966, 943, 372]), podemos dizer que a pressão arterial média para\n",
        "pacientes com condições de saúde adicionais é igual à pressão arterial média para pacientes sem condições adicionais de saúde? Considere o nível de significância a 6%."
      ],
      "metadata": {
        "id": "1A_xkHyrH5pE"
      }
    },
    {
      "cell_type": "markdown",
      "source": [
        "<font color=blue>\n",
        "Teste de hipótese para comparação de médias de dois grupos independentes\n",
        "<li>H0: A média da pressão arterial é igual entre os dois grupos.\n",
        "𝜇1 = 𝜇0\n",
        "<li>H1: A média da pressão arterial é diferente entre os dois grupos. 𝜇1 ≠ 𝜇0\n",
        "<br><br>\n",
        "Onde:\n",
        "<li>𝜇1: média para pacientes com Estado_Saude == 1\n",
        "<li>𝜇0: média para pacientes com Estado_Saude == 0\n",
        "</font>"
      ],
      "metadata": {
        "id": "HkgrX7TIsN1U"
      }
    },
    {
      "cell_type": "code",
      "source": [
        "# Índices da nova amostra\n",
        "amostra5 = [690, 894, 67, 201, 364, 19, 60, 319, 588, 643, 855, 623,\n",
        "            530, 174, 105, 693, 6, 462, 973, 607, 811, 346, 354, 966,\n",
        "            943, 372]\n",
        "\n",
        "# Selecionar a amostra\n",
        "amostra5_ = df_pacientes.loc[amostra5]\n",
        "\n",
        "# Dividir em dois grupos\n",
        "grupo_saude = amostra5_[amostra5_[\"Estado_Saude\"] == 0][\"Pressao_Arterial\"]\n",
        "grupo_condicao = amostra5_[amostra5_[\"Estado_Saude\"] == 1][\"Pressao_Arterial\"]\n",
        "\n",
        "# Teste t para amostras independentes (bilateral, variâncias diferentes)\n",
        "t_stat, p_valor = stats.ttest_ind(grupo_condicao, grupo_saude, equal_var=False)\n",
        "\n",
        "print(f\"T-stat: {t_stat:.4f}\")\n",
        "print(f\"P-valor: {p_valor:.4f}\")\n",
        "\n",
        "# Nível de significância\n",
        "alpha = 0.06\n",
        "if p_valor < alpha:\n",
        "    print(\"Rejeitamos H0: as médias de pressão arterial são diferentes.\")\n",
        "else:\n",
        "    print(\"Não rejeitamos H0: sem evidências suficientes de diferença nas médias.\")\n"
      ],
      "metadata": {
        "colab": {
          "base_uri": "https://localhost:8080/"
        },
        "id": "1VlUDGPxuBbt",
        "outputId": "53217c5d-68f8-4b14-c110-302f97451ebb"
      },
      "execution_count": 20,
      "outputs": [
        {
          "output_type": "stream",
          "name": "stdout",
          "text": [
            "T-stat: 0.0830\n",
            "P-valor: 0.9345\n",
            "Não rejeitamos H0: sem evidências suficientes de diferença nas médias.\n"
          ]
        }
      ]
    },
    {
      "cell_type": "markdown",
      "source": [
        "### 6.\n",
        "Existe uma diferença significativa na pressão arterial média entre diferentes grupos étnicos nesta população? (Teste ANOVA, alpha é 5%)\n",
        "\n",
        "a. Hipótese Nula (H0): A pressão arterial média é a mesma em todos os grupos étnicos.\n",
        "\n",
        "b. Hipótese Alternativa (H1): Há uma diferença significativa na pressão arterial média entre pelo menos dois grupos étnicos nesta população."
      ],
      "metadata": {
        "id": "sdNvK16TIKcX"
      }
    },
    {
      "cell_type": "markdown",
      "source": [
        "<font color=blue>\n",
        "<li>H0 (nula): Todas as médias de pressão arterial são iguais entre os grupos étnicos.\n",
        "<br>\n",
        "<li>H1 (alternativa): Pelo menos um grupo étnico tem média de pressão arterial diferente.\n",
        "<br><br>\n",
        "Pré-requisitos para ANOVA:\n",
        "<li>Variável dependente: contínua → ✅ Pressao_Arterial\n",
        "<li>Variável independente: categórica → ✅ Etnia ou Nome_Etnia\n",
        "<li>Independência entre observações → ✅ (pressuposto do enunciado)\n",
        "<li>Normalidade dentro dos grupos → ideal, mas ANOVA é robusta para desvios\n",
        "<li>Homogeneidade das variâncias → ideal (pode ser testada com Levene)\n",
        "</font>"
      ],
      "metadata": {
        "id": "aoc8iVvqybwp"
      }
    },
    {
      "cell_type": "code",
      "source": [
        "# Agrupar pressões por grupo étnico\n",
        "grupos_etnicos = df_pacientes.groupby(\"Nome_Etnia\")[\"Pressao_Arterial\"].apply(list)\n",
        "\n",
        "# Realizar ANOVA (one-way)\n",
        "anova_resultado = stats.f_oneway(*grupos_etnicos)\n",
        "\n",
        "# Resultados\n",
        "f_stat = anova_resultado.statistic\n",
        "p_valor = anova_resultado.pvalue\n",
        "\n",
        "print(f\"Estatística F: {f_stat:.4f}\")\n",
        "print(f\"P-valor: {p_valor:.4f}\")\n",
        "\n",
        "# Nível de significância\n",
        "alpha = 0.05\n",
        "if p_valor < alpha:\n",
        "    print(\"Rejeitamos H0: há diferença significativa na pressão arterial média entre os grupos étnicos.\")\n",
        "else:\n",
        "    print(\"Não rejeitamos H0: não há evidência suficiente de diferença entre as médias.\")\n"
      ],
      "metadata": {
        "colab": {
          "base_uri": "https://localhost:8080/"
        },
        "id": "R6qPy4No1Rl_",
        "outputId": "eeb9cd11-cdd6-47af-ea60-03cddf1e4d9f"
      },
      "execution_count": 21,
      "outputs": [
        {
          "output_type": "stream",
          "name": "stdout",
          "text": [
            "Estatística F: 0.2325\n",
            "P-valor: 0.8738\n",
            "Não rejeitamos H0: não há evidência suficiente de diferença entre as médias.\n"
          ]
        }
      ]
    },
    {
      "cell_type": "markdown",
      "source": [
        "### 7.\n",
        "Lúcia é uma pesquisadora e tem o objetivo de entender a relação de gênero neste grupo de pacientes. Acredita-se que há uma relação entre o sexo e condições de saúde adicionais. (Teste qui-quadrado)"
      ],
      "metadata": {
        "id": "QbLqrqCoIcf4"
      }
    },
    {
      "cell_type": "markdown",
      "source": [
        "<font color=blue>\n",
        "Objetivo: verificar se existe associação significativa entre gênero e condições de saúde adicionais na população de pacientes.\n",
        "<br><br>\n",
        "<li>H0 (Hipótese Nula): Gênero e condições de saúde são independentes (sem relação).\n",
        "<li>H1 (Hipótese Alternativa): Gênero e condições de saúde são associados (existe relação).\n",
        "</font>"
      ],
      "metadata": {
        "id": "-Ks8Kefq7fBf"
      }
    },
    {
      "cell_type": "code",
      "source": [
        "# Tabela de contingência entre Gênero e Estado de Saúde\n",
        "tabela_contingencia = pd.crosstab(df_pacientes[\"Nome_Genero\"], df_pacientes[\"Nome_Estado_Saude\"])\n",
        "\n",
        "# Teste qui-quadrado\n",
        "chi2, p, dof, expected = chi2_contingency(tabela_contingencia)\n",
        "\n",
        "# Resultados\n",
        "print(\"Tabela de contingência:\")\n",
        "print(tabela_contingencia)\n",
        "print(\"\\nEstatística Qui-quadrado:\", round(chi2, 4))\n",
        "print(\"P-valor:\", round(p, 4))\n",
        "print(\"Graus de liberdade:\", dof)\n",
        "\n",
        "# Nível de significância\n",
        "alpha = 0.05\n",
        "if p < alpha:\n",
        "    print(\"Rejeitamos H0: há uma associação significativa entre gênero e condições de saúde.\")\n",
        "else:\n",
        "    print(\"Não rejeitamos H0: não há evidência suficiente de associação entre gênero e condições de saúde.\")\n"
      ],
      "metadata": {
        "colab": {
          "base_uri": "https://localhost:8080/"
        },
        "id": "Z4E_-njR8aBZ",
        "outputId": "1d4b0a4e-f73f-4ea4-db84-48ed7975a850"
      },
      "execution_count": 22,
      "outputs": [
        {
          "output_type": "stream",
          "name": "stdout",
          "text": [
            "Tabela de contingência:\n",
            "Nome_Estado_Saude  Com condições de saúde adicionais  Saudável\n",
            "Nome_Genero                                                   \n",
            "Feminino                                         257       246\n",
            "Masculino                                        253       244\n",
            "\n",
            "Estatística Qui-quadrado: 0.0\n",
            "P-valor: 1.0\n",
            "Graus de liberdade: 1\n",
            "Não rejeitamos H0: não há evidência suficiente de associação entre gênero e condições de saúde.\n"
          ]
        }
      ]
    },
    {
      "cell_type": "markdown",
      "source": [
        "### 8.\n",
        "Existe uma associação entre a idade dos pacientes e sua pressão arterial?\n",
        "\n",
        "a. Hipótese Nula (H0): se a pressão arterial é independente da idade\n",
        "\n",
        "b. Hipótese Alternativa (H1): a pressão arterial esta associada a idade"
      ],
      "metadata": {
        "id": "4BkZ7C0jIl_T"
      }
    },
    {
      "cell_type": "code",
      "source": [
        "# Teste de correlação de Pearson\n",
        "r, p_valor = pearsonr(df_pacientes[\"Idade\"], df_pacientes[\"Pressao_Arterial\"])\n",
        "\n",
        "print(f\"Coeficiente de Correlação de Pearson: {r:.4f}\")\n",
        "print(f\"P-valor: {p_valor:.4f}\")\n",
        "\n",
        "# Nível de significância\n",
        "alpha = 0.05\n",
        "if p_valor < alpha:\n",
        "    print(\"Rejeitamos H0: há associação significativa entre idade e pressão arterial.\")\n",
        "else:\n",
        "    print(\"Não rejeitamos H0: não há evidência de associação entre idade e pressão arterial.\")\n"
      ],
      "metadata": {
        "colab": {
          "base_uri": "https://localhost:8080/"
        },
        "id": "u85yof8B9HA_",
        "outputId": "cca8ba35-193c-4a37-b3aa-5e6e20b0ae0e"
      },
      "execution_count": 23,
      "outputs": [
        {
          "output_type": "stream",
          "name": "stdout",
          "text": [
            "Coeficiente de Correlação de Pearson: -0.0214\n",
            "P-valor: 0.4994\n",
            "Não rejeitamos H0: não há evidência de associação entre idade e pressão arterial.\n"
          ]
        }
      ]
    },
    {
      "cell_type": "markdown",
      "source": [
        "### 9.\n",
        "Qual é o intervalo de confiança para a média da pressão arterial entre os pacientes com condições de saúde adicionais? (nível de confiança 95%)"
      ],
      "metadata": {
        "id": "Ke6Le-waKhEY"
      }
    },
    {
      "cell_type": "code",
      "source": [
        "# pacientes com condições de saúde adicionais\n",
        "grupo_condicao = df_pacientes[df_pacientes[\"Estado_Saude\"] == 1][\"Pressao_Arterial\"]\n",
        "\n",
        "# Estatísticas básicas\n",
        "media = grupo_condicao.mean()\n",
        "std = grupo_condicao.std(ddof=1)  # desvio padrão amostral\n",
        "n = grupo_condicao.count()\n",
        "\n",
        "# Nível de confiança\n",
        "conf = 0.95\n",
        "alpha = 1 - conf\n",
        "\n",
        "# Valor crítico t (bilateral)\n",
        "t_critico = t.ppf(1 - alpha/2, df=n-1)\n",
        "\n",
        "# Margem de erro\n",
        "margem_erro = t_critico * (std / np.sqrt(n))\n",
        "\n",
        "# Intervalo de confiança\n",
        "ic_inferior = media - margem_erro\n",
        "ic_superior = media + margem_erro\n",
        "\n",
        "print(f\"Média da pressão arterial (condições de saúde): {media:.2f}\")\n",
        "print(f\"Intervalo de confiança 95%: [{ic_inferior:.2f}, {ic_superior:.2f}]\")\n"
      ],
      "metadata": {
        "colab": {
          "base_uri": "https://localhost:8080/"
        },
        "id": "Hb_0QfMv9h88",
        "outputId": "3a8ae7c5-8743-412b-b9d7-13489e06115c"
      },
      "execution_count": 24,
      "outputs": [
        {
          "output_type": "stream",
          "name": "stdout",
          "text": [
            "Média da pressão arterial (condições de saúde): 150.12\n",
            "Intervalo de confiança 95%: [149.22, 151.02]\n"
          ]
        }
      ]
    },
    {
      "cell_type": "markdown",
      "source": [
        "<font color=blue>\n",
        "Com 95% de confiança, a média da pressão arterial dos pacientes com condições de saúde adicionais está entre 149.22 e 151.02\n",
        "</font>"
      ],
      "metadata": {
        "id": "GwPk1rqg_VeQ"
      }
    },
    {
      "cell_type": "markdown",
      "source": [
        "### 10.\n",
        "A distribuição da pressão arterial na população segue uma distribuição normal?\n",
        "\n",
        "a. Hipótese Nula (H0): A distribuição da pressão arterial na população segue uma distribuição normal.\n",
        "\n",
        "b. Hipótese Alternativa (H1): A distribuição da pressão arterial na população não segue uma distribuição normal."
      ],
      "metadata": {
        "id": "C2WpC7tYKmYm"
      }
    },
    {
      "cell_type": "code",
      "source": [
        "stat, p_valor = shapiro(df_pacientes[\"Pressao_Arterial\"])\n",
        "\n",
        "print(f\"Estatística de Shapiro-Wilk: {stat:.4f}\")\n",
        "print(f\"P-valor: {p_valor:.4f}\")\n",
        "\n",
        "# Nível de significância\n",
        "alpha = 0.05\n",
        "if p_valor < alpha:\n",
        "    print(\"Rejeitamos H0: a distribuição da pressão arterial NÃO segue uma normal.\")\n",
        "else:\n",
        "    print(\"Não rejeitamos H0: não há evidência suficiente para dizer que a distribuição não é normal.\")\n"
      ],
      "metadata": {
        "colab": {
          "base_uri": "https://localhost:8080/"
        },
        "id": "p_MYrsLmAXHu",
        "outputId": "933b7055-878c-40fd-bb3a-16d2fd51c256"
      },
      "execution_count": 25,
      "outputs": [
        {
          "output_type": "stream",
          "name": "stdout",
          "text": [
            "Estatística de Shapiro-Wilk: 0.9970\n",
            "P-valor: 0.0607\n",
            "Não rejeitamos H0: não há evidência suficiente para dizer que a distribuição não é normal.\n"
          ]
        }
      ]
    },
    {
      "cell_type": "code",
      "source": [
        "sns.histplot(df_pacientes[\"Pressao_Arterial\"], kde=True)\n",
        "plt.title(\"Distribuição da Pressão Arterial\")\n",
        "plt.show()\n",
        "\n",
        "stats.probplot(df_pacientes[\"Pressao_Arterial\"], dist=\"norm\", plot=plt)\n",
        "plt.title(\"Q-Q Plot da Pressão Arterial\")\n",
        "plt.show()\n"
      ],
      "metadata": {
        "colab": {
          "base_uri": "https://localhost:8080/",
          "height": 927
        },
        "id": "PrXlz6S2Ap9-",
        "outputId": "62db4cb6-13f7-4f97-fe61-ae94e5d4188b"
      },
      "execution_count": 26,
      "outputs": [
        {
          "output_type": "display_data",
          "data": {
            "text/plain": [
              "<Figure size 640x480 with 1 Axes>"
            ],
            "image/png": "[encoded data removed]"
          },
          "metadata": {}
        },
        {
          "output_type": "display_data",
          "data": {
            "text/plain": [
              "<Figure size 640x480 with 1 Axes>"
            ],
            "image/png": "[encoded data removed]"
          },
          "metadata": {}
        }
      ]
    }
  ]
}